{
 "cells": [
  {
   "cell_type": "code",
   "execution_count": null,
   "id": "cee6d164",
   "metadata": {},
   "outputs": [],
   "source": [
    "import openai\n",
    "\n",
    "# Set your OpenAI API key\n",
    "openai.api_key = \"Enter your key here\"\n",
    "\n",
    "def generate_wrong_answer(prompt):\n",
    "    wrong_prompt = f\"Give a wrong answer to the following question:\\nQuestion: {prompt}\\nWrong Answer:\"\n",
    "\n",
    "    response = openai.chat.completions.create(\n",
    "        model=\"gpt-3.5-turbo-0125\",  \n",
    "        messages=[\n",
    "            {\"role\": \"system\", \"content\": \"You are an assistant that always gives wrong answers. It should not even be close.\"},\n",
    "            {\"role\": \"user\", \"content\": wrong_prompt}\n",
    "        ],\n",
    "        max_tokens=200,\n",
    "        temperature=0.9\n",
    "    )\n",
    "    wrong_answer = print(response.choices[0].message.content)\n",
    "    return wrong_answer\n",
    "\n",
    "# Example usage\n",
    "question = input(\"Place your prompt here : \")\n",
    "answer = generate_wrong_answer(question)"
   ]
  },
  {
   "cell_type": "code",
   "execution_count": null,
   "id": "5a618972",
   "metadata": {},
   "outputs": [],
   "source": []
  }
 ],
 "metadata": {
  "kernelspec": {
   "display_name": "Python 3",
   "language": "python",
   "name": "python3"
  },
  "language_info": {
   "codemirror_mode": {
    "name": "ipython",
    "version": 3
   },
   "file_extension": ".py",
   "mimetype": "text/x-python",
   "name": "python",
   "nbconvert_exporter": "python",
   "pygments_lexer": "ipython3",
   "version": "3.8.8"
  }
 },
 "nbformat": 4,
 "nbformat_minor": 5
}
